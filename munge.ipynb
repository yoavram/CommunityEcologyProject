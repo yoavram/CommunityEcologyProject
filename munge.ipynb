{
 "metadata": {
  "name": "",
  "signature": "sha256:ad95231985c3a4bdfd3162fa8d84bc22688ffd1e426e3d71b356637250a422fc"
 },
 "nbformat": 3,
 "nbformat_minor": 0,
 "worksheets": [
  {
   "cells": [
    {
     "cell_type": "markdown",
     "metadata": {},
     "source": [
      "Fix the counts file so that it can be read with the R commands:\n",
      "```\n",
      "dt = read.csv(file=\"hmp1.v13.hq.otu.counts.header\", header=T, sep=\"\\t\", quote=\"\")\n",
      "dt = dt[,1:27655]\n",
      "```\n",
      "I also split the file to two -on with the `PPS` lines, one with the `may1` lines. "
     ]
    },
    {
     "cell_type": "code",
     "collapsed": false,
     "input": [
      "fin = open(\"hmp1.v13.hq.otu.counts\")\n",
      "fout_may1 = open(\"hmp1.v13.hq.otu.counts.may1\", \"w\")\n",
      "fout_PPS = open(\"hmp1.v13.hq.otu.counts.PPS\", \"w\")\n",
      "line = fin.readline()\n",
      "line = line.split(\"\\t\")\n",
      "line = line[1:]\n",
      "line[-1] = line[-1][:-1]\n",
      "line.append(str(int(line[-1])+1) + '\\n')\n",
      "fout_may1.write('\\t'.join(line))\n",
      "fout_PPS.write('\\t'.join(line))\n",
      "PPS = 0\n",
      "may1 = 0\n",
      "for line in fin:\n",
      "    line = line.split('\\t')\n",
      "    nap, tag = line[0].split('.')\n",
      "    line[0] = nap\n",
      "    if 'may1' == tag:      \n",
      "        fout_may1.write('\\t'.join(line))\n",
      "        may1 += 1\n",
      "    elif 'PPS' == tag:\n",
      "        fout_PPS.write('\\t'.join(line))\n",
      "        PPS += 1\n",
      "fout_may1.close()\n",
      "fout_PPS.close()\n",
      "fin.close()\n",
      "print \"PPS\",PPS,\"may1\",may1"
     ],
     "language": "python",
     "metadata": {},
     "outputs": [
      {
       "output_type": "stream",
       "stream": "stdout",
       "text": [
        "PPS 701 may1 2801\n"
       ]
      }
     ],
     "prompt_number": 10
    },
    {
     "cell_type": "code",
     "collapsed": false,
     "input": [
      "!ls -lhg hmp1.v13.hq.otu.counts*"
     ],
     "language": "python",
     "metadata": {},
     "outputs": [
      {
       "output_type": "stream",
       "stream": "stdout",
       "text": [
        "-rw-r--r--    1 yoavram  Administ     185M Apr  7 22:58 hmp1.v13.hq.otu.counts\n",
        "-rw-r--r--    1 yoavram  Administ      37M Apr  8 23:30 hmp1.v13.hq.otu.counts.PPS\n",
        "-rw-r--r--    1 yoavram  Administ      37M Apr  8 23:27 hmp1.v13.hq.otu.counts.header\n",
        "-rw-r--r--    1 yoavram  Administ     148M Apr  8 23:30 hmp1.v13.hq.otu.counts.may1\n"
       ]
      }
     ],
     "prompt_number": 8
    },
    {
     "cell_type": "markdown",
     "metadata": {},
     "source": [
      "Find duplicate NPS:"
     ]
    },
    {
     "cell_type": "code",
     "collapsed": false,
     "input": [
      "fin = open(\"hmp1.v13.hq.otu.counts\")\n",
      "fout = open('duplicates', 'w')\n",
      "line = fin.readline()\n",
      "fout.write(line)\n",
      "ids = dict()\n",
      "cnt = 0\n",
      "for line in fin:\n",
      "    collection = line.split('\\t')[0]\n",
      "    nps, tag = collection.split('.')\n",
      "    if nps in ids:        \n",
      "        fout.write(ids[nps])\n",
      "        fout.write(line)\n",
      "        cnt += 1\n",
      "    else:\n",
      "        ids[nps] = line    \n",
      "    if cnt == 10:\n",
      "        break\n",
      "fin.close()\n",
      "fout.close()"
     ],
     "language": "python",
     "metadata": {},
     "outputs": [],
     "prompt_number": 7
    },
    {
     "cell_type": "code",
     "collapsed": false,
     "input": [],
     "language": "python",
     "metadata": {},
     "outputs": []
    },
    {
     "cell_type": "markdown",
     "metadata": {},
     "source": [
      "Fix the mapping file so that each taxa will be on a different column"
     ]
    },
    {
     "cell_type": "code",
     "collapsed": false,
     "input": [
      "def remove_enclosure(s):\n",
      "    try:\n",
      "        return s[:s.index('(')]\n",
      "    except ValueError:\n",
      "        return s\n",
      "\n",
      "line = '249\tRoot(100);Bacteria(100);\"Firmicutes\"(90);\"Clostridia\"(90);Clostridiales(90);unclassified(87);unclassified(87);\\n'\n",
      "otu,taxonomy = map(str.strip, line.split('\\t'))\n",
      "map(lambda x: x.replace('\"', ''), map(remove_enclosure, taxonomy.split(';')[1:-1]))"
     ],
     "language": "python",
     "metadata": {},
     "outputs": [
      {
       "metadata": {},
       "output_type": "pyout",
       "prompt_number": 15,
       "text": [
        "['Bacteria',\n",
        " 'Firmicutes',\n",
        " 'Clostridia',\n",
        " 'Clostridiales',\n",
        " 'unclassified',\n",
        " 'unclassified']"
       ]
      }
     ],
     "prompt_number": 15
    },
    {
     "cell_type": "code",
     "collapsed": false,
     "input": [
      "fin = open(\"hmp1.v13.hq.otu.lookup\")\n",
      "fout = open(\"hmp1.v13.hq.otu.lookup.split\", \"w\")\n",
      "\n",
      "header = fin.readline()\n",
      "header = [\"otu\", \"domain\",\"kingdom\",\"phylum\",\"class\",\"order\",\"family\"]#,\"genus\"]\n",
      "fout.write('\\t'.join(header) + '\\n')\n",
      "\n",
      "for line in fin:\n",
      "    otu,taxonomy = map(str.strip, line.split('\\t'))\n",
      "    taxa = map(lambda x: x.replace('\"', ''), map(remove_enclosure, taxonomy.split(';')[1:-1]))\n",
      "    taxa.insert(0, otu)\n",
      "    while len(taxa) < len(header):\n",
      "        taxa.append(\"NA\")\n",
      "    if len(taxa) > len(header): print \"otu %s: %d taxa, %d header\" % (otu, len(taxa), len(header))\n",
      "    fout.write('\\t'.join(taxa)+'\\n')\n",
      "\n",
      "fout.close()\n",
      "fin.close()"
     ],
     "language": "python",
     "metadata": {},
     "outputs": [],
     "prompt_number": 39
    },
    {
     "cell_type": "code",
     "collapsed": false,
     "input": [
      "!head -n10 hmp1.v13.hq.otu.lookup.split "
     ],
     "language": "python",
     "metadata": {},
     "outputs": [
      {
       "output_type": "stream",
       "stream": "stdout",
       "text": [
        "otu\tdomain\tkingdom\tphylum\tclass\torder\tfamily\n",
        "1\tBacteria\tActinobacteria\tActinobacteria\tActinomycetales\tPropionibacteriaceae\tPropionibacterium\n",
        "2\tBacteria\tFirmicutes\tBacilli\tLactobacillales\tStreptococcaceae\tStreptococcus\n",
        "3\tBacteria\tFirmicutes\tBacilli\tLactobacillales\tLactobacillaceae\tLactobacillus\n",
        "4\tBacteria\tFirmicutes\tBacilli\tBacillales\tStaphylococcaceae\tStaphylococcus\n",
        "5\tBacteria\tFirmicutes\tBacilli\tLactobacillales\tStreptococcaceae\tStreptococcus\n",
        "6\tBacteria\tFirmicutes\tBacilli\tLactobacillales\tLactobacillaceae\tLactobacillus\n",
        "7\tBacteria\tFirmicutes\tClostridia\tClostridiales\tVeillonellaceae\tVeillonella\n",
        "8\tBacteria\tFirmicutes\tBacilli\tBacillales\tStaphylococcaceae\tGemella\n",
        "9\tBacteria\tFirmicutes\tBacilli\tLactobacillales\tLactobacillaceae\tLactobacillus\n"
       ]
      }
     ],
     "prompt_number": 41
    },
    {
     "cell_type": "code",
     "collapsed": false,
     "input": [],
     "language": "python",
     "metadata": {},
     "outputs": []
    }
   ],
   "metadata": {}
  }
 ]
}